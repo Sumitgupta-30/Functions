{
 "cells": [
  {
   "cell_type": "markdown",
   "id": "023fdeab-bf89-4767-b9f1-36cc85cf4f9f",
   "metadata": {},
   "source": [
    "THEORETICAL QUESTIONS/ANSWERS"
   ]
  },
  {
   "cell_type": "code",
   "execution_count": 81,
   "id": "ef9db214-959a-4737-8c0f-e9959f619452",
   "metadata": {},
   "outputs": [
    {
     "name": "stdout",
     "output_type": "stream",
     "text": [
      "5\n",
      "5\n"
     ]
    }
   ],
   "source": [
    "#What is the difference between a function and a method in Python?\n",
    "#Ans.) Functions are independent blocks of code that can be called from anywhere, while methods are tied to objects or classes and need an object or class instance to be invoked.\n",
    "#    * Functions promote code reusability, while methods offer behavior specific to objects\n",
    "#    * Functions are called by name, while methods are accessed using dot notation. \n",
    "#function example\n",
    "def add(a, b):\n",
    "    return a + b\n",
    "\n",
    "print(add(2, 3))  \n",
    "\n",
    "#method example\n",
    "class Calculator:\n",
    "    def add(self, a, b):\n",
    "        return a + b\n",
    "\n",
    "calc = Calculator()\n",
    "print(calc.add(2, 3))  \n",
    "\n"
   ]
  },
  {
   "cell_type": "code",
   "execution_count": 85,
   "id": "0a4b3a3e-d2b8-4dc9-8de0-ad0131ff9132",
   "metadata": {},
   "outputs": [
    {
     "name": "stdout",
     "output_type": "stream",
     "text": [
      "Hello Ram, you are 25 years old.\n"
     ]
    }
   ],
   "source": [
    "#Explain the concept of function arguments and parameters in Python.\n",
    "#Ans.) Parameters are variables defined in a function declaration.\n",
    "#     This act as placeholders for the values (arguments) that will be passed to the function.\n",
    "\n",
    "# * Arguments are the actual values that you pass to the function when you call it.\n",
    "#   These values replace the parameters defined in the function\n",
    "#example\n",
    "def greet(name, age):\n",
    "    print(f\"Hello {name}, you are {age} years old.\")\n",
    "\n",
    "greet(\"Ram\", 25)  # \"Ram\" and 25 are the arguments\n",
    " # here, name and age are parameters "
   ]
  },
  {
   "cell_type": "code",
   "execution_count": 87,
   "id": "c1ebe7cd-7ce2-40fa-a99b-defbcf3c495f",
   "metadata": {},
   "outputs": [
    {
     "name": "stdout",
     "output_type": "stream",
     "text": [
      "a: 1, b: 2, c: 6\n",
      "args: (3, 4)\n",
      "kwargs: {'d': 7}\n"
     ]
    }
   ],
   "source": [
    "#What are the different ways to define and call a function in Python?\n",
    "#Ans.) * By using the word def keyword followed by the function's name and parentheses () we can define a function.\n",
    "#        If the function takes any arguments, they are included inside the parentheses. \n",
    "#        The code inside a function must be indented after the colon to indicate it belongs to that function.\n",
    "\n",
    "# * To call a function in Python, we definitely type the name of the function observed via parentheses (). \n",
    "#   If the function takes any arguments, they may be covered within the parentheses .\n",
    "#   types - Positional Arguments, Keyword Arguments, Default Arguments, Variable-Length Arguments, Mixed Arguments\n",
    "#           Example for define and call of a function-\n",
    "\n",
    "def example_func(a, b=10, *args, c=5, **kwargs):\n",
    "    print(f\"a: {a}, b: {b}, c: {c}\")\n",
    "    print(\"args:\", args)\n",
    "    print(\"kwargs:\", kwargs)\n",
    "\n",
    "example_func(1, 2, 3, 4, c=6, d=7)\n"
   ]
  },
  {
   "cell_type": "code",
   "execution_count": 91,
   "id": "c8d51d6c-10f7-43b5-9c29-4ae48a115075",
   "metadata": {},
   "outputs": [
    {
     "name": "stdout",
     "output_type": "stream",
     "text": [
      "8\n"
     ]
    }
   ],
   "source": [
    "#What is the purpose of the `return` statement in a Python function?\n",
    "#Ans.)  The return statement in a Python function is used to exit the function and send a value back to the caller.\n",
    "#      *It provides a way for the function to produce a result that can be used elsewhere in your program.\n",
    "#      *When a return statement is executed, the function stops executing and hands over the specified value to the caller.\n",
    "#      * If no value is specified in the return statement, the function returns None by default.\n",
    "#example\n",
    "def add(a, b):\n",
    "    return a + b\n",
    "\n",
    "result = add(5, 3)  \n",
    "print(result)  \n"
   ]
  },
  {
   "cell_type": "code",
   "execution_count": 95,
   "id": "06c18e6e-86e8-417b-94dd-5b318e789479",
   "metadata": {},
   "outputs": [
    {
     "name": "stdout",
     "output_type": "stream",
     "text": [
      "1\n",
      "2\n",
      "3\n",
      "4\n",
      "1\n",
      "2\n",
      "3\n",
      "4\n"
     ]
    }
   ],
   "source": [
    "#What are iterators in Python and how do they differ from iterables?\n",
    "# Ans.) An iterator is an object that represents a stream of data. It is an object that provides the ability to iterate over a sequence, producing the next value in the sequence on each iteration. \n",
    "#In Python, iterators are objects that implement the __iter__() and __next__() methods.\n",
    "#example\n",
    "my_list = [1, 2, 3, 4]\n",
    "my_iterator = iter(my_list)  \n",
    "\n",
    "print(next(my_iterator))  # Output: 1\n",
    "print(next(my_iterator))  # Output: 2\n",
    "print(next(my_iterator))  # Output: 3\n",
    "print(next(my_iterator))  # Output: 4\n",
    "# The next call will raise StopIteration as there are no more elements\n",
    "# print(next(my_iterator))  # This will raise StopIteration\n",
    "\n",
    "#An iterable is any object in Python that can return an iterator when passed to the iter() function. \n",
    "#An iterable is essentially a collection or sequence that can be looped over (iterated) one element at a time.\n",
    "#An iterable is any object that implements the __iter__() method or the __getitem__() method, which allows the object to be iterated.\n",
    "#example\n",
    "my_list = [1, 2, 3, 4]\n",
    "\n",
    "for item in my_list:\n",
    "    print(item)\n",
    "\n"
   ]
  },
  {
   "cell_type": "code",
   "execution_count": 99,
   "id": "5ab575d4-c42d-45e4-9ad4-a43ade2748ab",
   "metadata": {},
   "outputs": [
    {
     "name": "stdout",
     "output_type": "stream",
     "text": [
      "5\n",
      "4\n",
      "3\n",
      "2\n",
      "1\n"
     ]
    }
   ],
   "source": [
    "#Explain the concept of generators in Python and how they are defined\n",
    "#Ans.)* A generator is a type of iterator in Python that allows you to iterate over a sequence of values lazily.\n",
    "#    * This means that it generates values on the fly, one at a time, only when needed, rather than creating and storing the entire sequence in memory at once.\n",
    "#    *This makes generators highly memory-efficient, especially for handling large datasets or infinite sequences.\n",
    "# they are defined using seyntax-\n",
    "def generator_function():\n",
    "    yield value\n",
    "\n",
    "#example\n",
    "def countdown(n):\n",
    "    while n > 0:\n",
    "        yield n  \n",
    "        n -= 1    \n",
    "\n",
    "gen = countdown(5)\n",
    "\n",
    "print(next(gen))  \n",
    "print(next(gen))  \n",
    "print(next(gen))  \n",
    "print(next(gen))  \n",
    "print(next(gen))  \n",
    "\n"
   ]
  },
  {
   "cell_type": "code",
   "execution_count": 103,
   "id": "74fe9f02-fd84-497f-9cac-884735c18ee0",
   "metadata": {},
   "outputs": [],
   "source": [
    "#What are the advantages of using generators over regular functions?\n",
    "#Ans.) *Generators use lazy evaluation, meaning that they generate values only when requested. This can be a significant performance advantage when dealing with large or infinite sequences.\n",
    "#      *Generators can handle infinite sequences, which would be impossible for regular functions that return complete collections\n",
    "#      *Generators improve performance when working with large data by allowing the program to handle data one element at a time.\n",
    "#example\n",
    "def count_up_to(n):\n",
    "    count = 1\n",
    "    while count <= n:\n",
    "        yield count\n",
    "        count += 1\n"
   ]
  },
  {
   "cell_type": "code",
   "execution_count": 105,
   "id": "b15057f2-9798-4656-9055-6d6cb63da15e",
   "metadata": {},
   "outputs": [
    {
     "name": "stdout",
     "output_type": "stream",
     "text": [
      "[1, 4, 9, 16, 25]\n"
     ]
    }
   ],
   "source": [
    "# What is a lambda function in Python and when is it typically used?\n",
    "#Ans.) A lambda function in Python is a small, anonymous function defined using the lambda keyword.They can take any number of arguments but can only have a single expressio\n",
    "#     *syntax of lambda function-\n",
    "lambda arguments: expression\n",
    "#     *they are typically used in functional programming,in-line Fucntion definition,sorting,etc.\n",
    "#example\n",
    "numbers = [1, 2, 3, 4, 5]\n",
    "squared_numbers = list(map(lambda x: x ** 2, numbers))\n",
    "print(squared_numbers)  \n"
   ]
  },
  {
   "cell_type": "code",
   "execution_count": 109,
   "id": "9183a3d0-7039-4958-aa65-38e5768c927d",
   "metadata": {},
   "outputs": [
    {
     "name": "stdout",
     "output_type": "stream",
     "text": [
      "[1, 4, 9, 16, 25]\n"
     ]
    }
   ],
   "source": [
    "#Explain the purpose and usage of the `map()` function in Python.\n",
    "#Ans.) The map() function in Python is used to apply a specified function to each item in an iterable (like a list, tuple, etc.) and return a new iterable (usually a map object) with the results.\n",
    "#     * This allows for functional programming paradigms, where a function is applied to each element of a sequence, making the code more concise and readable.\n",
    "#      syntax-  map(function, iterable, ...)\n",
    "#     * It is particularly useful for simple transformations, functional programming, and improving memory efficiency when dealing with large datasets.\n",
    "#example\n",
    "def square(x):\n",
    "    return x ** 2\n",
    "\n",
    "numbers = [1, 2, 3, 4, 5]\n",
    "\n",
    "squared_numbers = map(square, numbers)\n",
    "\n",
    "print(list(squared_numbers))  \n",
    "\n"
   ]
  },
  {
   "cell_type": "code",
   "execution_count": 111,
   "id": "ce0e321e-1d82-4551-a755-b6d7bfaa1350",
   "metadata": {},
   "outputs": [
    {
     "name": "stdout",
     "output_type": "stream",
     "text": [
      "[1, 4, 9, 16]\n",
      "24\n",
      "[2, 4, 6]\n"
     ]
    }
   ],
   "source": [
    "#What is the difference between `map()`, `reduce()`, and `filter()` functions in Python?\n",
    "#Ans.) The functions map(), reduce(), and filter() in Python are all higher-order functions from the functional programming paradigm\n",
    "#      They are used to perform operations on iterables (like lists, tuples, etc.) in a concise and efficient manne.\n",
    "\n",
    "#map()- applies a function to each item in an iterable. syntax - map(function, iterable, ...) \n",
    "#       used to transform or modify each element in the iterable\n",
    "#example\n",
    "numbers = [1, 2, 3, 4]\n",
    "squared_numbers = map(lambda x: x ** 2, numbers)\n",
    "\n",
    "print(list(squared_numbers)) \n",
    "\n",
    "#reduce() - Applies a function cumulatively to the items of an iterable. syntax-from functools import reduce\n",
    "#                                                                               reduce(function, iterable, [initializer])\n",
    "\n",
    "#           used to reduce the iterable to a single value (e.g., sum, product).\n",
    "#example\n",
    "from functools import reduce\n",
    "\n",
    "numbers = [1, 2, 3, 4]\n",
    "product = reduce(lambda x, y: x * y, numbers)\n",
    "\n",
    "print(product) \n",
    "\n",
    "\n",
    "#filter() - Filters items from an iterable based on a condition. syntax-filter(function, iterable)\n",
    "#           To filter out elements that don't meet a certain condition.   \n",
    "#example - \n",
    "numbers = [1, 2, 3, 4, 5, 6]\n",
    "even_numbers = filter(lambda x: x % 2 == 0, numbers)\n",
    "\n",
    "print(list(even_numbers)) \n",
    "\n"
   ]
  },
  {
   "cell_type": "markdown",
   "id": "2cf20556-f335-4e49-82b6-d36f3370e6b0",
   "metadata": {},
   "source": [
    "PRACTICAL QUESTIONS/ANSWERS"
   ]
  },
  {
   "cell_type": "code",
   "execution_count": 57,
   "id": "47bef692-ba23-4f9e-a278-e9283e38a722",
   "metadata": {},
   "outputs": [
    {
     "data": {
      "text/plain": [
       "12"
      ]
     },
     "execution_count": 57,
     "metadata": {},
     "output_type": "execute_result"
    }
   ],
   "source": [
    "#Write a Python function that takes a list of numbers as input and returns the sum of all even numbers in the list\n",
    "def sum_even(*a):\n",
    "\tsum_ = 0\n",
    "\tfor value in a:\n",
    "\t\tif value % 2 == 0:\n",
    "\t\t\tsum_ += value\n",
    "\treturn sum_\n",
    "    \n",
    "#example\n",
    "sum_even(2, 4, 3, 6, 5, 9 )"
   ]
  },
  {
   "cell_type": "code",
   "execution_count": 59,
   "id": "549c141d-090c-4b75-9ada-94f72593e394",
   "metadata": {},
   "outputs": [
    {
     "name": "stdout",
     "output_type": "stream",
     "text": [
      "!olleh\n"
     ]
    }
   ],
   "source": [
    "#Create a Python function that accepts a string and returns the reverse of that string.\n",
    "def reverse_string(s):\n",
    "    return s[::-1]\n",
    "\n",
    "#example\n",
    "input_string = \"hello!\"\n",
    "reversed_string = reverse_string(input_string)\n",
    "print(reversed_string) \n"
   ]
  },
  {
   "cell_type": "code",
   "execution_count": 61,
   "id": "ff6e49b1-bb07-475a-b480-0d52110d805f",
   "metadata": {},
   "outputs": [
    {
     "name": "stdout",
     "output_type": "stream",
     "text": [
      "[1, 4, 9, 16, 25]\n"
     ]
    }
   ],
   "source": [
    "#Implement a Python function that takes a list of integers and returns a new list containing the squares of each number.\n",
    "def square_numbers(numbers):\n",
    "    return [num ** 2 for num in numbers]\n",
    "\n",
    "#example\n",
    "input_list = [1, 2, 3, 4, 5]\n",
    "squared_list = square_numbers(input_list)\n",
    "print(squared_list)\n",
    "        "
   ]
  },
  {
   "cell_type": "code",
   "execution_count": 63,
   "id": "43ad8c6d-16f9-47e3-bf51-328df8ce6bc7",
   "metadata": {},
   "outputs": [
    {
     "name": "stdout",
     "output_type": "stream",
     "text": [
      "2 is prime\n",
      "3 is prime\n",
      "5 is prime\n",
      "7 is prime\n",
      "11 is prime\n",
      "13 is prime\n",
      "17 is prime\n",
      "19 is prime\n",
      "23 is prime\n",
      "29 is prime\n",
      "31 is prime\n",
      "37 is prime\n",
      "41 is prime\n",
      "43 is prime\n",
      "47 is prime\n",
      "53 is prime\n",
      "59 is prime\n",
      "61 is prime\n",
      "67 is prime\n",
      "71 is prime\n",
      "73 is prime\n",
      "79 is prime\n",
      "83 is prime\n",
      "89 is prime\n",
      "97 is prime\n",
      "101 is prime\n",
      "103 is prime\n",
      "107 is prime\n",
      "109 is prime\n",
      "113 is prime\n",
      "127 is prime\n",
      "131 is prime\n",
      "137 is prime\n",
      "139 is prime\n",
      "149 is prime\n",
      "151 is prime\n",
      "157 is prime\n",
      "163 is prime\n",
      "167 is prime\n",
      "173 is prime\n",
      "179 is prime\n",
      "181 is prime\n",
      "191 is prime\n",
      "193 is prime\n",
      "197 is prime\n",
      "199 is prime\n"
     ]
    }
   ],
   "source": [
    "#Write a Python function that checks if a given number is prime or not from 1 to 200\n",
    "def is_prime(number):\n",
    "    if number <= 1:\n",
    "        return False  # Numbers less than or equal to 1 are not prime\n",
    "    for i in range(2, int(number ** 0.5) + 1):  # Only check up to the square root of the number\n",
    "        if number % i == 0:\n",
    "            return False  # If divisible by any number other than 1 and itself, it's not prime\n",
    "    return True\n",
    "\n",
    "#example\n",
    "for num in range(1, 201):\n",
    "    if is_prime(num):\n",
    "        print(num, \"is prime\")"
   ]
  },
  {
   "cell_type": "code",
   "execution_count": 65,
   "id": "05e560f2-8738-4a63-ab8a-11d417e43d85",
   "metadata": {},
   "outputs": [
    {
     "name": "stdout",
     "output_type": "stream",
     "text": [
      "0\n",
      "1\n",
      "1\n",
      "2\n",
      "3\n",
      "5\n",
      "8\n",
      "13\n",
      "21\n",
      "34\n"
     ]
    }
   ],
   "source": [
    "#Create an iterator class in Python that generates the Fibonacci sequence up to a specified number of terms\n",
    "class FibonacciIterator:\n",
    "    def __init__(self, num_terms):\n",
    "        self.num_terms = num_terms\n",
    "        self.current = 0\n",
    "        self.next_term = 1\n",
    "        self.index = 0\n",
    "\n",
    "    def __iter__(self):\n",
    "        return self  # The object itself is the iterator\n",
    "\n",
    "    def __next__(self):\n",
    "        if self.index >= self.num_terms:\n",
    "            raise StopIteration  # Stop iteration when the number of terms is reached\n",
    "        else:\n",
    "            fib_num = self.current\n",
    "            self.current, self.next_term = self.next_term, self.current + self.next_term  # Update Fibonacci numbers\n",
    "            self.index += 1\n",
    "            return fib_num\n",
    "\n",
    "# Example\n",
    "fib_iterator = FibonacciIterator(10)\n",
    "for number in fib_iterator:\n",
    "    print(number)\n"
   ]
  },
  {
   "cell_type": "code",
   "execution_count": 67,
   "id": "81e6ab35-6db8-4bab-9c69-9dd0e0e63077",
   "metadata": {},
   "outputs": [
    {
     "name": "stdout",
     "output_type": "stream",
     "text": [
      "1\n",
      "2\n",
      "4\n",
      "8\n",
      "16\n",
      "32\n"
     ]
    }
   ],
   "source": [
    "#Write a generator function in Python that yields the powers of 2 up to a given exponent.\n",
    "def powers_of_two(exponent):\n",
    "    for i in range(exponent + 1):\n",
    "        yield 2 ** i\n",
    " #example\n",
    "for power in powers_of_two(5):\n",
    "    print(power)\n"
   ]
  },
  {
   "cell_type": "code",
   "execution_count": 71,
   "id": "eda54b3f-f045-409b-9e29-6d6d4f7df8d3",
   "metadata": {},
   "outputs": [],
   "source": [
    "#Implement a generator function that reads a file line by line and yields each line as a string.\n",
    "def read_file_line_by_line(file_path):\n",
    "    with open(file_path, 'r') as file:\n",
    "        for line in file:\n",
    "            yield line.strip()  # Using strip to remove trailing newline characters\n"
   ]
  },
  {
   "cell_type": "code",
   "execution_count": 73,
   "id": "c50e73da-e791-428c-8dc1-ecd4b89817ad",
   "metadata": {},
   "outputs": [
    {
     "name": "stdout",
     "output_type": "stream",
     "text": [
      "[(4, 1), (2, 3), (1, 5), (3, 7)]\n"
     ]
    }
   ],
   "source": [
    "#Use a lambda function in Python to sort a list of tuples based on the second element of each tuple.\n",
    "\n",
    "data = [(1, 5), (2, 3), (4, 1), (3, 7)]\n",
    "\n",
    "sorted_data = sorted(data, key=lambda x: x[1])   #sorting the tuples based  second element of each tuple\n",
    "\n",
    "print(sorted_data)\n"
   ]
  },
  {
   "cell_type": "code",
   "execution_count": 75,
   "id": "3e3b8b60-2275-4b88-a5d8-8c357bc898e4",
   "metadata": {},
   "outputs": [
    {
     "name": "stdout",
     "output_type": "stream",
     "text": [
      "[32.0, 68.0, 98.6, 212.0, 23.0]\n"
     ]
    }
   ],
   "source": [
    "#Write a Python program that uses `map()` to convert a list of temperatures from Celsius to Fahrenheit.\n",
    "\n",
    "celsius_temperatures = [0, 20, 37, 100, -5]\n",
    "\n",
    "# Function to convert Celsius to Fahrenheit\n",
    "def celsius_to_fahrenheit(celsius):\n",
    "    return (celsius * 9/5) + 32\n",
    "\n",
    "# Using map() to apply the conversion function to the list\n",
    "fahrenheit_temperatures = list(map(celsius_to_fahrenheit, celsius_temperatures))\n",
    "print(fahrenheit_temperatures)\n"
   ]
  },
  {
   "cell_type": "code",
   "execution_count": 77,
   "id": "cf667b19-0fb5-41f3-bb96-a90a5d7e009b",
   "metadata": {},
   "outputs": [
    {
     "name": "stdout",
     "output_type": "stream",
     "text": [
      "Hll, Wrld!\n"
     ]
    }
   ],
   "source": [
    "#Create a Python program that uses `filter()` to remove all the vowels from a given string.\n",
    "\n",
    "def is_not_vowel(char):\n",
    "    return char.lower() not in 'aeiou'\n",
    "    \n",
    "input_string = \"Hello, World!\"\n",
    "\n",
    "filtered_string = ''.join(filter(is_not_vowel, input_string))\n",
    "\n",
    "print(filtered_string)\n",
    "\n"
   ]
  },
  {
   "cell_type": "code",
   "execution_count": 79,
   "id": "3b198fe3-0842-41c1-b806-9f1d15acedae",
   "metadata": {},
   "outputs": [
    {
     "name": "stdout",
     "output_type": "stream",
     "text": [
      "[(34587, 163.8), (98762, 284.0), (77226, 108.85), (88112, 84.97)]\n"
     ]
    }
   ],
   "source": [
    "#Imagine an accounting routine used in a book shop. It works on a list with sublists, which look like this:\n",
    "# Write a Python program, which returns a list with 2-tuples. Each tuple consists of the order number and the  product of the price per item and the quantity. The product should be increased by 10,- € if the value of the order is smaller than 100,00 €.\n",
    "#Write a Python program using lambda and map.\n",
    "\n",
    "orders = [\n",
    "    [34587, \"Learning Python, Mark Lutz\", 4, 40.95],\n",
    "    [98762, \"Programming Python, Mark Lutz\", 5, 56.80],\n",
    "    [77226, \"Head First Python, Paul Barry\", 3, 32.95],\n",
    "    [88112, \"Einführung in Python3, Bernd Klein\", 3, 24.99]\n",
    "]\n",
    "\n",
    "# Using lambda and map to process the data\n",
    "result = list(map(\n",
    "    lambda x: (\n",
    "        x[0], \n",
    "        round(x[2] * x[3] + 10, 2) if x[2] * x[3] < 100 else round(x[2] * x[3], 2)\n",
    "    ), \n",
    "    orders\n",
    "))\n",
    "\n",
    "print(result)\n"
   ]
  }
 ],
 "metadata": {
  "kernelspec": {
   "display_name": "Python [conda env:base] *",
   "language": "python",
   "name": "conda-base-py"
  },
  "language_info": {
   "codemirror_mode": {
    "name": "ipython",
    "version": 3
   },
   "file_extension": ".py",
   "mimetype": "text/x-python",
   "name": "python",
   "nbconvert_exporter": "python",
   "pygments_lexer": "ipython3",
   "version": "3.12.7"
  }
 },
 "nbformat": 4,
 "nbformat_minor": 5
}
